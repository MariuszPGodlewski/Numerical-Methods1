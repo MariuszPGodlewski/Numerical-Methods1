{
 "cells": [
  {
   "cell_type": "markdown",
   "metadata": {},
   "source": [
    "# Laboratory 6 - Rootfinding algorithms\n",
    "#### Grzegorz Fotyga"
   ]
  },
  {
   "cell_type": "markdown",
   "metadata": {},
   "source": [
    "## 1 Introduction\n",
    "\n",
    "The goal of the lab is to implement two root-finding algorithms, the bisection method and the secant method, and use them to solve the following two problems:\n",
    "\n",
    "### Problem 1 \n",
    "Figure 1 shows a circuit with a resistor, an inductor, and a capacitor in parallel. Kirchhoff’s rules can be used to express the impedance magnitude of the system as follows:\n",
    "\n",
    "$|Z| = \\dfrac{1}{\\sqrt{\\dfrac{1}{R^2} + (\\omega C - \\dfrac{1}{\\omega L})^2}}  \\   \\   \\   \\  (1)$       \n",
    "\n",
    "\n",
    "where $\\omega$ is the angular frequency. Find the $\\omega$ that results in an impedance of $75 \\Omega$. For the following parameters: R = $725\\Omega$, C = 8 $\\cdot$ 10e−5F, L = 2H, with initial interval $\\omega \\in \\left< 1,50 \\right>$  and $\\epsilon_f$ = 1e−12.\n",
    "\n",
    "\n",
    "### Problem 2\n",
    "\n",
    "The upward velocity of a rocket can be computed by the following formula \n",
    "\n",
    "$v = u \\text{ln}\\left(\\dfrac{m_0}{m_0 - qt} \\right) - gt     \\  \\    \\  \\    (2)$    \n",
    "\n",
    "\n",
    "where $t$ denotes the time, $v$ is the upward velocity, $m_0$ - the initial mass of the rocket at time $t = 0$, $u$ - the velocity at which fuel is expelled relative to the rocket, $q$ - the fuel consumption rate, $g = 9.81m/s2$ - the downward acceleration of gravity. Compute the time, at which $v = 750m/s$, assuming $m_0 = 150000kg$, $q = 2700kg/s$, $u = 2000m/s$. Set the initial interval to: $t \\in \\left< 1, 50 \\right>$, and the tolerance to: $\\epsilon_f$ = 1e−12.\n",
    "\n"
   ]
  },
  {
   "cell_type": "code",
   "execution_count": 2,
   "metadata": {},
   "outputs": [
    {
     "data": {
      "image/png": "[encoded data removed]",
      "text/plain": [
       "<Figure size 640x480 with 1 Axes>"
      ]
     },
     "metadata": {},
     "output_type": "display_data"
    }
   ],
   "source": [
    "import matplotlib.pyplot as plt\n",
    "import matplotlib.image as mpimg\n",
    "img = mpimg.imread('circuit.png')\n",
    "imgplot = plt.imshow(img)\n",
    "plt.axis('off')  \n",
    "plt.show()"
   ]
  },
  {
   "cell_type": "markdown",
   "metadata": {},
   "source": [
    "### Task 1\n",
    "\n",
    "- Define a function whose input parameter is $\\omega$ and output parameter is impedance $Z$, based on formula (1).\n",
    "- Define a function whose input parameter is a time $t$ and output parameter is velocity $v$, based on formula (2).\n"
   ]
  },
  {
   "cell_type": "code",
   "execution_count": 36,
   "metadata": {},
   "outputs": [
    {
     "name": "stdout",
     "output_type": "stream",
     "text": [
      "2.003197481615657\n",
      "33.29815766509095\n",
      "75.0000011249263\n",
      "750.0000900169638\n"
     ]
    }
   ],
   "source": [
    "import math\n",
    "import numpy as np\n",
    "\n",
    "def ImpedanceCalculator(omega):\n",
    "    r = 725\n",
    "    c = 8 * 10e-5\n",
    "    l = 2\n",
    "    first = 1 / (r * r)\n",
    "    second = omega * c - 1 / (omega * l)\n",
    "    return 1/math.sqrt( (first + second * second))\n",
    "\n",
    "def VelocityCalculator(time):\n",
    "    m0 = 150000\n",
    "    q = 2700\n",
    "    u = 2000\n",
    "    g = 9.81\n",
    "    return u * math.log( (m0 / ( m0 - q * time))) - g * time\n",
    "\n",
    "print(ImpedanceCalculator(1))\n",
    "print(ImpedanceCalculator(50))\n",
    "print(ImpedanceCalculator(18.049586))\n",
    "print(VelocityCalculator(21.132417))"
   ]
  },
  {
   "cell_type": "markdown",
   "metadata": {},
   "source": [
    "### Task 2\n",
    "\n",
    "Implement bisection algorithm in a form of a function with the following input parameters: \n",
    "- initial interval - floats: $a$ and $b$ \n",
    "- tolerance: $\\epsilon_f = 1e-12$ \n",
    "\n",
    "Specify two stopping criterions:\n",
    "- absoulte value of a function in the middle of subregion will drop below $\\epsilon_f$\n",
    "or:\n",
    "- width of subregion drops below $\\epsilon_f$\n",
    "\n",
    "Output of a function:\n",
    "- root\n",
    "- number of iterations\n",
    "\n",
    "Test your bisection algorithm on a simple function (suggest one!)"
   ]
  },
  {
   "cell_type": "code",
   "execution_count": 16,
   "metadata": {},
   "outputs": [
    {
     "name": "stdout",
     "output_type": "stream",
     "text": [
      "Root: 2.0000000000004547, Iterations: 42\n"
     ]
    }
   ],
   "source": [
    "import math\n",
    "\n",
    "def bisection_algorithm(f, a, b, epsilon_f=1e-12):\n",
    "    if f(a) * f(b) >= 0:\n",
    "        print(\"The function must have different signs at a and b\")\n",
    "        return\n",
    "    \n",
    "    iterations = 0\n",
    "    while (b - a) / 2 > epsilon_f:\n",
    "        midpoint = (a + b) / 2\n",
    "        f_midpoint = f(midpoint)\n",
    "        \n",
    "        if abs(f_midpoint) < epsilon_f:\n",
    "            return midpoint, iterations\n",
    "        \n",
    "        if f(a) * f_midpoint < 0:\n",
    "            b = midpoint\n",
    "        else:\n",
    "            a = midpoint\n",
    "        \n",
    "        iterations += 1\n",
    "\n",
    "    midpoint = (a + b) / 2\n",
    "    return midpoint, iterations\n",
    "\n",
    "# Define a simple function for testing: f(x) = x^2 - 2\n",
    "def test_function(x):\n",
    "    return x- 2 \n",
    "\n",
    "# Test the bisection algorithm on the test function\n",
    "root, iterations = bisection_algorithm(test_function, -10, 10)\n",
    "print(f\"Root: {root}, Iterations: {iterations}\")\n",
    "\n"
   ]
  },
  {
   "cell_type": "markdown",
   "metadata": {},
   "source": [
    "### Task 3\n",
    "\n",
    "Implement secant algorithm in a form of a function with the following input parameters: \n",
    "- the first two points - floats: $a$ and $b$ \n",
    "- tolerance: $\\epsilon_f = 1e-12$ \n",
    "\n",
    "Specify a stopping criterion:\n",
    "- absoulte value of a function in the current point will drop below $\\epsilon_f$\n",
    "\n",
    "Output of a function:\n",
    "- root\n",
    "- number of iterations\n",
    "\n",
    "Test your secant algorithm on a simple function (suggest one!)"
   ]
  },
  {
   "cell_type": "code",
   "execution_count": 33,
   "metadata": {},
   "outputs": [
    {
     "name": "stdout",
     "output_type": "stream",
     "text": [
      "Root: 4.0, Iterations: 1\n"
     ]
    }
   ],
   "source": [
    "def SecantAlgorithm(f, x0, x1, epsilon=1e-12, max_iterations=1000):\n",
    "    iterations = 0\n",
    "    f_x0 = f(x0)\n",
    "    f_x1 = f(x1)\n",
    "    \n",
    "    while abs(x1 - x0) > epsilon and iterations < max_iterations:\n",
    "        if abs(f_x1 - f_x0) < epsilon:\n",
    "            print(\"The difference in function values is too small. Secant method may fail.\")\n",
    "            break  # Avoid division by a small number\n",
    "        \n",
    "        x_new = x1 - f_x1 * (x1 - x0) / (f_x1 - f_x0)\n",
    "        x0 = x1\n",
    "        x1 = x_new\n",
    "        f_x0 = f_x1\n",
    "        f_x1 = f(x1)\n",
    "        \n",
    "        iterations += 1\n",
    "        \n",
    "        if abs(f_x1) < epsilon:\n",
    "            break  # Stopping criterion based on function value\n",
    "\n",
    "    return x1, iterations\n",
    "\n",
    "# Define a simple function for testing: f(x) = x^2 - 4\n",
    "def test_function(x):\n",
    "    return x - 4\n",
    "\n",
    "# Test the Secant algorithm on the test function\n",
    "root, iterations = SecantAlgorithm(test_function, -100, 10)\n",
    "print(f\"Root: {root}, Iterations: {iterations}\")\n"
   ]
  },
  {
   "cell_type": "markdown",
   "metadata": {},
   "source": [
    "### Task 4\n",
    "\n",
    "Test your algorithms on the real problems specified in the previous points. How many iterations did each method take to converge? What is the value of $\\omega$ and $t$ you are looking for?"
   ]
  },
  {
   "cell_type": "code",
   "execution_count": 37,
   "metadata": {},
   "outputs": [
    {
     "name": "stdout",
     "output_type": "stream",
     "text": [
      "The function must have different signs at a and b\n",
      "Root: 18.04958591388136, Iterations: 45\n",
      "The difference in function values is too small. Secant method may fail.\n",
      "Root: -5.544660280838136e+31, Iterations: 9\n",
      "Root: 21.13241513592571, Iterations: 45\n",
      "Root: 21.132415135926294, Iterations: 8\n"
     ]
    }
   ],
   "source": [
    "\n",
    "def ImpedanceCalculator_75(omega):\n",
    "    return ImpedanceCalculator(omega) - 75\n",
    "\n",
    "def VelocityCalculator_750(time):\n",
    "    return VelocityCalculator(time) - 750\n",
    "\n",
    "root, iterations = bisection_algorithm(ImpedanceCalculator_75, 1, 50)\n",
    "print(f\"Root: {root}, Iterations: {iterations}\")\n",
    "root, iterations = SecantAlgorithm(ImpedanceCalculator_75, 1, 50)\n",
    "print(f\"Root: {root}, Iterations: {iterations}\")\n",
    "\n",
    "root, iterations = bisection_algorithm(VelocityCalculator_750, 1, 50)\n",
    "print(f\"Root: {root}, Iterations: {iterations}\")\n",
    "root, iterations = SecantAlgorithm(VelocityCalculator_750, 1, 50)\n",
    "print(f\"Root: {root}, Iterations: {iterations}\")"
   ]
  },
  {
   "cell_type": "markdown",
   "metadata": {},
   "source": [
    "### Task 5\n",
    "\n",
    "As the output data in the Bisection and Secant algorithms, add a vector storing subsequent absolute values of the function (in subsequent root approximations). Plot this vector. What can you say about the convergence?\n",
    "\n",
    "Hint: In subsequent iterations, you compute approximate values of the root as well as the absolute values of the analyzed function at these points. The goal here is to plot (using the plt.semilogy() function) the absolute values of the function. For the last iteration, it should be below 1e-12.\n",
    "\n",
    "Focus on the convergence rates. Is it linear? Quadratic? Compare it with the results shown in the lecture slides."
   ]
  },
  {
   "cell_type": "code",
   "execution_count": null,
   "metadata": {},
   "outputs": [
    {
     "name": "stdout",
     "output_type": "stream",
     "text": [
      "[2.28517000e+02 3.35052287e+02 8.23453782e+01 6.44979297e+01\n",
      " 1.08786378e+01 2.62989506e+01 7.58534331e+00 1.67750338e+00\n",
      " 2.94616300e+00 6.32395962e-01 5.23036498e-01 5.45589508e-02\n",
      " 2.34268958e-01 8.98625514e-02 1.76536873e-02 1.84521599e-02\n",
      " 3.99118351e-04 8.62731398e-03 4.11410519e-03 1.85749526e-03\n",
      " 7.29188916e-04 1.65035398e-04 1.17041448e-04 2.39969821e-05\n",
      " 4.65222309e-05 1.12626240e-05 6.36717937e-06 2.44772230e-06\n",
      " 1.95972848e-06 2.43996965e-07 8.57865871e-07 3.06934453e-07\n",
      " 3.14689714e-08 1.06264110e-07 3.73978537e-08 2.96438429e-09\n",
      " 1.42522367e-08 5.64375569e-09 1.33979938e-09 8.12406142e-10\n",
      " 2.63867150e-10 2.74440026e-10 5.22959454e-12 1.29034561e-10\n",
      " 6.20730134e-11]\n"
     ]
    },
    {
     "data": {
      "image/png": "[encoded data removed]",
      "text/plain": [
       "<Figure size 640x480 with 1 Axes>"
      ]
     },
     "metadata": {},
     "output_type": "display_data"
    },
    {
     "name": "stdout",
     "output_type": "stream",
     "text": [
      "[2.28517000e+02 3.35052287e+02 8.23453782e+01 6.44979297e+01\n",
      " 1.08786378e+01 2.62989506e+01 7.58534331e+00 1.67750338e+00\n",
      " 2.94616300e+00 6.32395962e-01 5.23036498e-01 5.45589508e-02\n",
      " 2.34268958e-01 8.98625514e-02 1.76536873e-02 1.84521599e-02\n",
      " 3.99118351e-04 8.62731398e-03 4.11410519e-03 1.85749526e-03\n",
      " 7.29188916e-04 1.65035398e-04 1.17041448e-04 2.39969821e-05\n",
      " 4.65222309e-05 1.12626240e-05 6.36717937e-06 2.44772230e-06\n",
      " 1.95972848e-06 2.43996965e-07 8.57865871e-07 3.06934453e-07\n",
      " 3.14689714e-08 1.06264110e-07 3.73978537e-08 2.96438429e-09\n",
      " 1.42522367e-08 5.64375569e-09 1.33979938e-09 8.12406142e-10\n",
      " 2.63867150e-10 2.74440026e-10 5.22959454e-12 1.29034561e-10\n",
      " 6.20730134e-11]\n"
     ]
    },
    {
     "name": "stderr",
     "output_type": "stream",
     "text": [
      "\n",
      "KeyboardInterrupt\n",
      "\n"
     ]
    },
    {
     "data": {
      "image/png": "[encoded data removed]",
      "text/plain": [
       "<Figure size 640x480 with 1 Axes>"
      ]
     },
     "metadata": {},
     "output_type": "display_data"
    },
    {
     "name": "stderr",
     "output_type": "stream",
     "text": [
      "\n",
      "KeyboardInterrupt\n",
      "\n"
     ]
    },
    {
     "data": {
      "image/png": "[encoded data removed]",
      "text/plain": [
       "<Figure size 640x480 with 1 Axes>"
      ]
     },
     "metadata": {},
     "output_type": "display_data"
    }
   ],
   "source": [
    "import math\n",
    "import numpy as np\n",
    "def bisection_algorithm_vector(f, a, b, epsilon_f=1e-12):\n",
    "    if f(a) * f(b) >= 0:\n",
    "        print(\"The function must have different signs at a and b\")\n",
    "    \n",
    "    iterations = 0\n",
    "    solutions = np.array([])\n",
    "    while (b - a) / 2 > epsilon_f:\n",
    "        midpoint = (a + b) / 2\n",
    "        f_midpoint = f(midpoint)\n",
    "        solutions = np.append(solutions, abs(f_midpoint))\n",
    "        if abs(f_midpoint) < epsilon_f:\n",
    "            return midpoint, iterations\n",
    "        \n",
    "        if f(a) * f_midpoint < 0:\n",
    "            b = midpoint\n",
    "        else:\n",
    "            a = midpoint\n",
    "        \n",
    "        iterations += 1\n",
    "\n",
    "    midpoint = (a + b) / 2\n",
    "    return solutions\n",
    "\n",
    "def SecantAlgorithm_vector(f, x0, x1, epsilon=1e-12, max_iterations=1000):\n",
    "    iterations = 0\n",
    "    f_x0 = f(x0)\n",
    "    f_x1 = f(x1)\n",
    "    solutions = np.array([])\n",
    "    while abs(x1 - x0) > epsilon and iterations < max_iterations:\n",
    "        if abs(f_x1 - f_x0) < epsilon:\n",
    "            print(\"The difference in function values is too small. Secant method may fail.\")\n",
    "            break  # Avoid division by a small number\n",
    "        \n",
    "        x_new = x1 - f_x1 * (x1 - x0) / (f_x1 - f_x0)\n",
    "        x0, x1 = x1, x_new\n",
    "        f_x0, f_x1 = f_x1, f(x1)\n",
    "        \n",
    "        iterations += 1\n",
    "        solutions = np.append(solutions, abs(f_x1))\n",
    "        if abs(f_x1) < epsilon:\n",
    "            break  # Stopping criterion based on function value\n",
    "\n",
    "    return solutions\n",
    "\n",
    "\n",
    "# Test the Secant algorithm on the test function\n",
    "solutions = bisection_algorithm_vector(VelocityCalculator_750, 1, 50)\n",
    "plt.semilogy(solutions, \"Bisection\")\n",
    "\n",
    "solutions = SecantAlgorithm_vector(VelocityCalculator_750, 1, 50)\n",
    "plt.semilogy(solutions, \"Secant\")\n",
    "plt.grid(True)\n",
    "plt.show()"
   ]
  }
 ],
 "metadata": {
  "kernelspec": {
   "display_name": "Python 3",
   "language": "python",
   "name": "python3"
  },
  "language_info": {
   "codemirror_mode": {
    "name": "ipython",
    "version": 3
   },
   "file_extension": ".py",
   "mimetype": "text/x-python",
   "name": "python",
   "nbconvert_exporter": "python",
   "pygments_lexer": "ipython3",
   "version": "3.12.2"
  }
 },
 "nbformat": 4,
 "nbformat_minor": 2
}
